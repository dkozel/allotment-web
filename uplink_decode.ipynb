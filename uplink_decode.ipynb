{
 "cells": [
  {
   "cell_type": "code",
   "execution_count": null,
   "metadata": {},
   "outputs": [],
   "source": [
    "uplink_message = '{\"end_device_ids\":{\"device_id\":\"allotment-shed\",\"application_ids\":{\"application_id\":\"allotment-sensors\"},\"dev_eui\":\"A84041D6C15B9D9A\",\"join_eui\":\"A840410000000100\",\"dev_addr\":\"260B2962\"},\"correlation_ids\":[\"gs:uplink:01JNER3TZAJ9AWA11HC2X41NMW\"],\"received_at\":\"2025-03-03T19:35:50.710777504Z\",\"uplink_message\":{\"session_key_id\":\"AZVdgbSSDmUaGFS/FoSJ9Q==\",\"f_port\":2,\"frm_payload\":\"y9IH+wGvAQczf/8=\",\"decoded_payload\":{\"BatV\":3.026, \"Bat_status\":3, \"Ext_sensor\":\"Temperature Sensor\", \"Hum_SHT\":43.1, \"TempC_DS\":18.43, \"TempC_SHT\":20.43},\"rx_metadata\":[{\"gateway_ids\":{\"gateway_id\":\"296161-gateway\",\"eui\":\"C0EE40FFFF296161\"},\"time\":\"2025-03-03T19:35:50.495699882Z\",\"timestamp\":2788344348,\"rssi\":-121,\"channel_rssi\":-121,\"snr\":-13.75,\"location\":{\"latitude\":51.531197,\"longitude\":-3.21995,\"altitude\":82,\"source\":\"SOURCE_REGISTRY\"},\"uplink_token\":\"ChwKGgoOMjk2MTYxLWdhdGV3YXkSCMDuQP//KWFhEJyEy7EKGgwIlomYvgYQrP/R8QEg4PqYspO8Bw==\",\"received_at\":\"2025-03-03T19:35:50.495979450Z\"}],\"settings\":{\"data_rate\":{\"lora\":{\"bandwidth\":125000, \"spreading_factor\":12, \"coding_rate\":\"4/5\"}}, \"frequency\":\"868500000\", \"timestamp\":2788344348, \"time\":\"2025-03-03T19:35:50.495699882Z\"},\"received_at\":\"2025-03-03T19:35:50.507803847Z\",\"confirmed\":true,\"consumed_airtime\":\"1.482752s\",\"locations\":{\"user\":{\"latitude\":51.5180064,\"longitude\":-3.24884,\"altitude\":25,\"source\":\"SOURCE_REGISTRY\"}},\"network_ids\":{\"net_id\":\"000013\",\"ns_id\":\"EC656E0000000181\",\"tenant_id\":\"ttn\",\"cluster_id\":\"eu1\",\"cluster_address\":\"eu1.cloud.thethings.network\"}}}'"
   ]
  },
  {
   "cell_type": "code",
   "execution_count": null,
   "metadata": {},
   "outputs": [],
   "source": [
    "from flask import json"
   ]
  },
  {
   "cell_type": "code",
   "execution_count": null,
   "metadata": {},
   "outputs": [],
   "source": [
    "data = json.loads(uplink_message)"
   ]
  },
  {
   "cell_type": "code",
   "execution_count": null,
   "metadata": {},
   "outputs": [],
   "source": [
    "payload = data['uplink_message']['decoded_payload']\n",
    "batV = payload['BatV']\n",
    "humidity = payload['Hum_SHT']\n",
    "temp = payload['TempC_SHT']\n",
    "temp_ext = payload['TempC_DS']\n",
    "\n",
    "metadata = data['uplink_message']['rx_metadata']\n",
    "timestamp = metadata[0]['time']"
   ]
  },
  {
   "cell_type": "code",
   "execution_count": null,
   "metadata": {},
   "outputs": [],
   "source": [
    "print(f'{timestamp}: {batV}V, {humidity}%, {temp}C, {temp_ext}C')"
   ]
  }
 ],
 "metadata": {
  "kernelspec": {
   "display_name": ".venv",
   "language": "python",
   "name": "python3"
  },
  "language_info": {
   "codemirror_mode": {
    "name": "ipython",
    "version": 3
   },
   "file_extension": ".py",
   "mimetype": "text/x-python",
   "name": "python",
   "nbconvert_exporter": "python",
   "pygments_lexer": "ipython3",
   "version": "3.12.8"
  }
 },
 "nbformat": 4,
 "nbformat_minor": 2
}
